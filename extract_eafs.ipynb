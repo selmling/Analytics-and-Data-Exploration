{
 "cells": [
  {
   "cell_type": "code",
   "execution_count": 1,
   "metadata": {},
   "outputs": [],
   "source": [
    "# Import required modules\n",
    "import pympi\n",
    "import pandas as pd\n",
    "import glob\n",
    "\n",
    "eaf_files = glob.glob(\"*.eaf\")"
   ]
  },
  {
   "cell_type": "code",
   "execution_count": 19,
   "metadata": {},
   "outputs": [],
   "source": [
    "def convert_elan_to_csv(file_paths, tiers, output_csv_path):\n",
    "    df_list = []\n",
    "    tiers = tiers.split(',')\n",
    "    \n",
    "    for file_path in file_paths:\n",
    "        eaf = pympi.Elan.Eaf(file_path)\n",
    "        for tier in tiers:\n",
    "            annotations = eaf.get_annotation_data_for_tier(tier)\n",
    "            for annotation in annotations:\n",
    "                df_list.append({\n",
    "                    'filename': file_path,\n",
    "                    'onset': annotation[0]/1000,\n",
    "                    'offset': annotation[1]/1000,\n",
    "                    'cat': annotation[2],\n",
    "                    'tier': tier,\n",
    "                })\n",
    "    df = pd.DataFrame(df_list)\n",
    "    df.to_csv(output_csv_path, index=False)"
   ]
  },
  {
   "cell_type": "code",
   "execution_count": 20,
   "metadata": {},
   "outputs": [],
   "source": [
    "convert_elan_to_csv(eaf_files, 'VCV', \"output.csv\")"
   ]
  },
  {
   "cell_type": "code",
   "execution_count": null,
   "metadata": {},
   "outputs": [],
   "source": []
  }
 ],
 "metadata": {
  "kernelspec": {
   "display_name": "Python 3",
   "language": "python",
   "name": "python3"
  },
  "language_info": {
   "codemirror_mode": {
    "name": "ipython",
    "version": 3
   },
   "file_extension": ".py",
   "mimetype": "text/x-python",
   "name": "python",
   "nbconvert_exporter": "python",
   "pygments_lexer": "ipython3",
   "version": "3.10.9"
  },
  "orig_nbformat": 4
 },
 "nbformat": 4,
 "nbformat_minor": 2
}
